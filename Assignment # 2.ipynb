{
 "cells": [
  {
   "cell_type": "code",
   "execution_count": null,
   "metadata": {},
   "outputs": [
    {
     "name": "stdout",
     "output_type": "stream",
     "text": [
      "Kindly, Insert your subject marks to Calculate the Grade\n"
     ]
    }
   ],
   "source": [
    "print(\"Kindly, Insert your subject marks to Calculate the Grade\");\n",
    "p = int(input(\"Physics\"));\n",
    "m = int(input(\"Maths\"));\n",
    "c = int(input(\"Chemsitry\"));\n",
    "u = int(input(\"Urdu\"));\n",
    "i = int(input(\"Islamiat\"));\n",
    "total = p + m + c + u + i;\n",
    "per = (total//550)*100;\n",
    "if per < 0:\n",
    "    print(\"Wrong Input, Please enter you marks again\")\n",
    "elif per <=40:\n",
    "    print(\"F grade\")\n",
    "elif per <= 59:\n",
    "    print(\"D grade\")\n",
    "elif per <= 69:\n",
    "    print(\"B grade\")\n",
    "elif per <= 79:\n",
    "    print(\"A grade\")\n",
    "elif per <= 100:\n",
    "    print(\"A+ grade\")\n",
    "else:\n",
    "    print(\"You have inserted marks incorrectly, Please re-enter marks\")"
   ]
  },
  {
   "cell_type": "code",
   "execution_count": null,
   "metadata": {},
   "outputs": [],
   "source": [
    "num = int(input(\"Please enter a number\"));\n",
    "ans = num % 2;\n",
    "if num < 0:\n",
    "    print(\"Please enter a Positive Number\")\n",
    "elif ans == 0:\n",
    "    print(\"The number is even\")\n",
    "else:\n",
    "    print(\"The number is odd\")"
   ]
  },
  {
   "cell_type": "code",
   "execution_count": null,
   "metadata": {},
   "outputs": [],
   "source": [
    "a = [] \n",
    "a.append(\"Hello\") \n",
    "a.append(\"Geeks\") \n",
    "a.append(\"For\") \n",
    "a.append(\"Geeks\") \n",
    "print(\"The length of list is: \", len(a)) "
   ]
  },
  {
   "cell_type": "code",
   "execution_count": null,
   "metadata": {},
   "outputs": [],
   "source": [
    "total = 0\n",
    "ele = 0\n",
    "  list1 = [11, 5, 17, 18, 23]  \n",
    "while(ele < len(list1)): \n",
    "    total = total + list1[ele] \n",
    "    ele += 1\n",
    "print(\"Sum of all elements in given list: \", total) "
   ]
  },
  {
   "cell_type": "code",
   "execution_count": null,
   "metadata": {},
   "outputs": [],
   "source": [
    "list1 = [10, 20, 4, 45, 99]  \n",
    "list1.sort() \n",
    "print(\"Largest element is:\", list1[-1]) "
   ]
  },
  {
   "cell_type": "code",
   "execution_count": null,
   "metadata": {},
   "outputs": [],
   "source": [
    "a = [1, 1, 2, 3, 5, 8, 13, 21, 34, 55, 89]\n",
    "\n",
    "new_list = []\n",
    "\n",
    "for item in a:\n",
    "    if item < 5:\n",
    "        new_list.append(item)\n",
    "print(new_list)"
   ]
  }
 ],
 "metadata": {
  "kernelspec": {
   "display_name": "Python 3",
   "language": "python",
   "name": "python3"
  },
  "language_info": {
   "codemirror_mode": {
    "name": "ipython",
    "version": 3
   },
   "file_extension": ".py",
   "mimetype": "text/x-python",
   "name": "python",
   "nbconvert_exporter": "python",
   "pygments_lexer": "ipython3",
   "version": "3.7.4"
  }
 },
 "nbformat": 4,
 "nbformat_minor": 2
}
