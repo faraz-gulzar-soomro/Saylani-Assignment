{
 "cells": [
  {
   "cell_type": "code",
   "execution_count": 13,
   "metadata": {
    "collapsed": true
   },
   "outputs": [
    {
     "ename": "NameError",
     "evalue": "name 'Question' is not defined",
     "output_type": "error",
     "traceback": [
      "\u001b[1;31m---------------------------------------------------------------------------\u001b[0m",
      "\u001b[1;31mNameError\u001b[0m                                 Traceback (most recent call last)",
      "\u001b[1;32m<ipython-input-13-c9e3a670d87d>\u001b[0m in \u001b[0;36m<module>\u001b[1;34m\u001b[0m\n\u001b[0;32m      1\u001b[0m \u001b[0mquestion\u001b[0m \u001b[1;33m=\u001b[0m \u001b[1;34m\"What is OOP Language?\"\u001b[0m\u001b[1;33m\u001b[0m\u001b[1;33m\u001b[0m\u001b[0m\n\u001b[0;32m      2\u001b[0m \u001b[0mAnswer\u001b[0m \u001b[1;33m=\u001b[0m \u001b[1;34m'Object Orinted Programming OOP is a paradigm in which real world world object are each viewed as seperate entities having their own state which is modified only by built in procedures called methods'\u001b[0m\u001b[1;33m\u001b[0m\u001b[1;33m\u001b[0m\u001b[0m\n\u001b[1;32m----> 3\u001b[1;33m \u001b[0mquestion_1\u001b[0m \u001b[1;33m=\u001b[0m \u001b[0mQuestion\u001b[0m \u001b[1;33m+\u001b[0m \u001b[0mAnswer\u001b[0m\u001b[1;33m\u001b[0m\u001b[1;33m\u001b[0m\u001b[0m\n\u001b[0m\u001b[0;32m      4\u001b[0m \u001b[0mprint\u001b[0m\u001b[1;33m(\u001b[0m\u001b[0mQuestion_1\u001b[0m\u001b[1;33m)\u001b[0m\u001b[1;33m\u001b[0m\u001b[1;33m\u001b[0m\u001b[0m\n",
      "\u001b[1;31mNameError\u001b[0m: name 'Question' is not defined"
     ]
    }
   ],
   "source": [
    "question = \"What is OOP Language?\"\n",
    "\n",
    "Answer = '''Object Orinted Programming OOP is a paradigm in which real world world object\n",
    "are each viewed as seperate entities having their own state which\n",
    "is modified only by built in procedures called methods'''\n"
   ]
  },
  {
   "cell_type": "code",
   "execution_count": null,
   "metadata": {},
   "outputs": [],
   "source": [
    "question = \"Benefits of OOP\"\n",
    "\n",
    "Answer = '''\n",
    "1 = OOP provides a clear modular structure for programs.\n",
    "\n",
    "2 = It is good for defining abstract data types.\n",
    "\n",
    "3 = Implementation details are hidden from other modules and other modules has a clearly defined interface.\n",
    "\n",
    "4 = It is easy to maintain and modify existing code as new objects can be created with small differences to existing ones.\n",
    "\n",
    "5 = objects, methods, instance, message passing, inheritance are some important properties provided by these particular languages\n",
    "\n",
    "6 = encapsulation, polymorphism, abstraction are also counts in these fundamentals of programming language.\n",
    "\n",
    "7 = It implements real life scenario.\n",
    "\n",
    "8 = In OOP, programmer not only defines data types but also deals with operations applied for data structures.'''"
   ]
  },
  {
   "cell_type": "code",
   "execution_count": null,
   "metadata": {},
   "outputs": [],
   "source": [
    "question = \"Diff between function and method\"\n",
    "answer = '''Python method is called on an object, unlike a function\n",
    "Since we call a method on an object, it can access the data within it. A method may alter an object's state\n",
    "but Python function usually only operates on it, and then prints something or returns a value.'''"
   ]
  },
  {
   "cell_type": "code",
   "execution_count": null,
   "metadata": {},
   "outputs": [],
   "source": [
    "question = \"Define Following\"\n",
    "\n",
    "class = '''Classes (OOP) In object-oriented programming, a class is a blueprint for creating objects (a particular data structure),\n",
    "providing initial values for state (member variables or attributes),\n",
    "and implementations of behavior (member functions or methods).\n",
    "The user-defined objects are created using the class keyword.'''\n",
    "\n",
    "object = '''In object-oriented programming (OOP), objects are the things you think about first in\n",
    "designing a program and they are also the units of code that are eventually derived from the process Each object is an\n",
    "instance of a particular class or subclass with the class's own methods or procedures and data variables.'''\n",
    "\n",
    "attribute = '''In Object-oriented programming(OOP), classes and objects have attributes.\n",
    "Attributes are data stored inside a class or instance and represent the state or quality of the class or instance.\n",
    "One can think of attributes as noun or adjective, while methods are the verb of the class.'''\n",
    "\n",
    "Behavior = '''A class's behavior determines how an instance of that class operates; for example,\n",
    "how it will \"react\" if asked to do something by another class or object or if its internal state changes.\n",
    "Behavior is the only way objects can do anything to themselves or have anything done to them.'''"
   ]
  },
  {
   "cell_type": "code",
   "execution_count": null,
   "metadata": {},
   "outputs": [],
   "source": [
    "class car():\n",
    "    def __init__(self,model,color,name,speed,cartype)\n",
    "        self.model = model\n",
    "        self.color = color\n",
    "        self.name = name\n",
    "        self.speed = speed\n",
    "        self.cartype = cartype\n",
    "customer_1 = \n",
    "    "
   ]
  }
 ],
 "metadata": {
  "kernelspec": {
   "display_name": "Python 3",
   "language": "python",
   "name": "python3"
  },
  "language_info": {
   "codemirror_mode": {
    "name": "ipython",
    "version": 3
   },
   "file_extension": ".py",
   "mimetype": "text/x-python",
   "name": "python",
   "nbconvert_exporter": "python",
   "pygments_lexer": "ipython3",
   "version": "3.7.4"
  }
 },
 "nbformat": 4,
 "nbformat_minor": 2
}
