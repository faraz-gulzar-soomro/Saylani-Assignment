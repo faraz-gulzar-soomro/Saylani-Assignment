{
 "cells": [
  {
   "cell_type": "code",
   "execution_count": 1,
   "metadata": {},
   "outputs": [
    {
     "name": "stdout",
     "output_type": "stream",
     "text": [
      "\n",
      "\n",
      "first_name :  Ali Ahmed\n",
      "last_name :  Soomro\n",
      "age :  21\n",
      "city :  Karachi\n",
      "\n",
      "\n",
      "first_name :  Ali Ahmed\n",
      "last_name :  Soomro\n",
      "age :  21\n",
      "city :  Karachi\n",
      "qualification :  Intermediate\n",
      "\n",
      "\n",
      "first_name :  Ali Ahmed\n",
      "last_name :  Soomro\n",
      "age :  21\n",
      "city :  Karachi\n",
      "qualification :  BSCS\n",
      "\n",
      "\n",
      "first_name :  Ali Ahmed\n",
      "last_name :  Soomro\n",
      "age :  21\n",
      "city :  Karachi\n"
     ]
    }
   ],
   "source": [
    "info = {\n",
    "    \"first_name\": \"Ali Ahmed\",\n",
    "    \"last_name\": \"Soomro\",\n",
    "    \"age\": 21,\n",
    "    \"city\": \"Karachi\"\n",
    "}\n",
    "def show():\n",
    "    print('\\n')\n",
    "    for key,value in info.items():\n",
    "        print (key, ': ', value)\n",
    "show()\n",
    "info['qualification'] = 'Intermediate'\n",
    "show()\n",
    "info.update({'qualification': 'BSCS'})\n",
    "show()\n",
    "del info['qualification']\n",
    "show()"
   ]
  },
  {
   "cell_type": "code",
   "execution_count": 2,
   "metadata": {},
   "outputs": [
    {
     "name": "stdout",
     "output_type": "stream",
     "text": [
      "\n",
      "City:  Karachi\n",
      "country :  Pakistan\n",
      "Population :  14910000.0\n",
      "fact :  6th Largest city in the World.\n",
      "\n",
      "City:  Delhi\n",
      "country :  India\n",
      "Population :  18980000.0\n",
      "fact :  Entire public transport system runs on CNG.\n",
      "\n",
      "City:  Paris\n",
      "country :  France\n",
      "Population :  2141000.0\n",
      "fact :  Only one stop sign in the entire city.\n"
     ]
    }
   ],
   "source": [
    "cities = {\n",
    "    'Karachi': {'country':'Pakistan', 'Population': 14.91E6, 'fact':'6th Largest city in the World.'},\n",
    "    'Delhi': {'country':'India', 'Population':18.98E6, 'fact':'Entire public transport system runs on CNG.'},\n",
    "    'Paris': {'country': 'France', 'Population':2.141E6, 'fact':'Only one stop sign in the entire city.'}\n",
    "}\n",
    "for city, info in cities.items():\n",
    "    print('\\nCity: ', city)\n",
    "    for key, val in info.items():\n",
    "        print(key,': ',val)"
   ]
  },
  {
   "cell_type": "code",
   "execution_count": 3,
   "metadata": {},
   "outputs": [
    {
     "name": "stdout",
     "output_type": "stream",
     "text": [
      "Please enter your age.30\n",
      "$15\n"
     ]
    }
   ],
   "source": [
    "charges = []\n",
    "insert_age = int(input('Please enter your age.'))\n",
    "charges.append(insert_age)\n",
    "\n",
    "for age in charges:\n",
    "    if age < 3:\n",
    "        print('Ticket is free')\n",
    "    elif 3 <= age <= 12:\n",
    "        print('$10')\n",
    "    else:\n",
    "        print('$15')\n"
   ]
  },
  {
   "cell_type": "code",
   "execution_count": 4,
   "metadata": {},
   "outputs": [
    {
     "name": "stdout",
     "output_type": "stream",
     "text": [
      "One of my favorite books is 40 Rules of Love\n"
     ]
    }
   ],
   "source": [
    "def favorite_book(title):\n",
    "    print('One of my favorite books is ' + title)\n",
    "    \n",
    "favorite_book('40 Rules of Love')"
   ]
  },
  {
   "cell_type": "code",
   "execution_count": 5,
   "metadata": {},
   "outputs": [
    {
     "name": "stdout",
     "output_type": "stream",
     "text": [
      "\"Guess a number from 1 to 30\"\n",
      "Guess: 23\n",
      "Hint: The number is smaller than the inserted number\n",
      "Guess: 29\n",
      "Hint: The number is smaller than the inserted number\n",
      "Guess: 12\n",
      "Hint: The number is smaller than the inserted number\n",
      "You Failed!\n"
     ]
    }
   ],
   "source": [
    "import random\n",
    "correct_number = random.randrange(1, 31, 1)\n",
    "turn_no = 0\n",
    "chances = 3\n",
    "print('\"Guess a number from 1 to 30\"')\n",
    "while turn_no < chances:\n",
    "    guessed_number = int(input('Guess: '))\n",
    "    turn_no+=1\n",
    "    if guessed_number == correct_number:\n",
    "        print('Yay! You Won.')\n",
    "        break\n",
    "    elif guessed_number >= correct_number:\n",
    "        print('Hint: The number is smaller than the inserted number')\n",
    "    else:\n",
    "        print('Hint: The number is greater than the inserted number')\n",
    "else:\n",
    "    print('You Failed!')\n"
   ]
  },
  {
   "cell_type": "code",
   "execution_count": null,
   "metadata": {},
   "outputs": [],
   "source": []
  }
 ],
 "metadata": {
  "kernelspec": {
   "display_name": "Python 3",
   "language": "python",
   "name": "python3"
  },
  "language_info": {
   "codemirror_mode": {
    "name": "ipython",
    "version": 3
   },
   "file_extension": ".py",
   "mimetype": "text/x-python",
   "name": "python",
   "nbconvert_exporter": "python",
   "pygments_lexer": "ipython3",
   "version": "3.7.4"
  }
 },
 "nbformat": 4,
 "nbformat_minor": 2
}
